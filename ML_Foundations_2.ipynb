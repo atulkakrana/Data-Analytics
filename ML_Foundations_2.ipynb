{
  "nbformat": 4,
  "nbformat_minor": 0,
  "metadata": {
    "colab": {
      "name": "ML-Foundations-2.ipynb",
      "provenance": [],
      "collapsed_sections": [],
      "machine_shape": "hm",
      "authorship_tag": "ABX9TyNXnUaksm7e0ZHy8vVbtjyi",
      "include_colab_link": true
    },
    "kernelspec": {
      "name": "python3",
      "display_name": "Python 3"
    },
    "accelerator": "GPU"
  },
  "cells": [
    {
      "cell_type": "markdown",
      "metadata": {
        "id": "view-in-github",
        "colab_type": "text"
      },
      "source": [
        "<a href=\"https://colab.research.google.com/github/atulkakrana/Data-Analytics/blob/master/ML_Foundations_2.ipynb\" target=\"_parent\"><img src=\"https://colab.research.google.com/assets/colab-badge.svg\" alt=\"Open In Colab\"/></a>"
      ]
    },
    {
      "cell_type": "code",
      "metadata": {
        "id": "1YpTAUGq4iLW",
        "colab_type": "code",
        "colab": {
          "base_uri": "https://localhost:8080/",
          "height": 32
        },
        "outputId": "e904d821-4cd1-4f0a-ce6b-c0e1fb52cb3d"
      },
      "source": [
        "from tensorflow.keras import layers, activations, models, metrics\n",
        "from tensorflow.keras import losses, optimizers, callbacks, utils\n",
        "from tensorflow.keras.preprocessing import image\n",
        "import matplotlib.pyplot as plt\n",
        "import tensorflow as tf\n",
        "import numpy as np\n",
        "print(tf.__version__)"
      ],
      "execution_count": 17,
      "outputs": [
        {
          "output_type": "stream",
          "text": [
            "2.3.0\n"
          ],
          "name": "stdout"
        }
      ]
    },
    {
      "cell_type": "code",
      "metadata": {
        "id": "6ruQI81l5ATs",
        "colab_type": "code",
        "colab": {}
      },
      "source": [
        "import os, zipfile, random\n",
        "from shutil import copyfile\n",
        "import numpy as np"
      ],
      "execution_count": 6,
      "outputs": []
    },
    {
      "cell_type": "markdown",
      "metadata": {
        "id": "drnQQDlT4w5A",
        "colab_type": "text"
      },
      "source": [
        "## Helper Functions"
      ]
    },
    {
      "cell_type": "code",
      "metadata": {
        "id": "zUM7vpAG4tUi",
        "colab_type": "code",
        "colab": {}
      },
      "source": [
        "def plots(history):\n",
        "  plt.xlabel('Epochs ->')\n",
        "  plt.ylabel(\"Loss\")\n",
        "  plt.plot(history.history['loss'])\n",
        "\n",
        "  return plt\n",
        "\n",
        "def loss_acc_plots(history):\n",
        "  '''\n",
        "  Generate \n",
        "  '''\n",
        "  acc      = history.history['accuracy']\n",
        "  val_acc  = history.history['val_accuracy']\n",
        "  loss     = history.history['loss']\n",
        "  val_loss = history.history['val_loss']\n",
        "\n",
        "  epochs   = range(len(acc))\n",
        "\n",
        "  plt.plot(epochs, acc, 'bo', label='Training accuracy')\n",
        "  plt.plot(epochs, val_acc, 'b', label='Validation accuracy')\n",
        "  plt.title('Training and validation accuracy')\n",
        "\n",
        "  plt.figure()\n",
        "\n",
        "  plt.plot(epochs, loss, 'bo', label='Training Loss')\n",
        "  plt.plot(epochs, val_loss, 'b', label='Validation Loss')\n",
        "  plt.title('Training and validation loss')\n",
        "  plt.legend()\n",
        "\n",
        "  plt.show()\n",
        "\n",
        "  return None"
      ],
      "execution_count": 7,
      "outputs": []
    },
    {
      "cell_type": "markdown",
      "metadata": {
        "id": "Hlszztmn8R1a",
        "colab_type": "text"
      },
      "source": [
        ""
      ]
    },
    {
      "cell_type": "code",
      "metadata": {
        "id": "vMrS3TXE4zR_",
        "colab_type": "code",
        "colab": {
          "base_uri": "https://localhost:8080/",
          "height": 197
        },
        "outputId": "e24b9fea-df06-430d-967d-9e9de8205dde"
      },
      "source": [
        "## Get Data\n",
        "!wget --no-check-certificate \\\n",
        "    \"https://download.microsoft.com/download/3/E/1/3E1C3F21-ECDB-4869-8368-6DEBA77B919F/kagglecatsanddogs_3367a.zip\" \\\n",
        "    -O \"/tmp/cats-and-dogs.zip\"\n",
        "\n",
        "local_zip = '/tmp/cats-and-dogs.zip'\n",
        "zip_ref   = zipfile.ZipFile(local_zip, 'r')\n",
        "zip_ref.extractall('/tmp')\n",
        "zip_ref.close()"
      ],
      "execution_count": 8,
      "outputs": [
        {
          "output_type": "stream",
          "text": [
            "--2020-09-16 03:14:39--  https://download.microsoft.com/download/3/E/1/3E1C3F21-ECDB-4869-8368-6DEBA77B919F/kagglecatsanddogs_3367a.zip\n",
            "Resolving download.microsoft.com (download.microsoft.com)... 92.123.124.137, 2a02:26f0:6b:5a5::e59, 2a02:26f0:6b:5b3::e59\n",
            "Connecting to download.microsoft.com (download.microsoft.com)|92.123.124.137|:443... connected.\n",
            "HTTP request sent, awaiting response... 200 OK\n",
            "Length: 824894548 (787M) [application/octet-stream]\n",
            "Saving to: ‘/tmp/cats-and-dogs.zip’\n",
            "\n",
            "/tmp/cats-and-dogs. 100%[===================>] 786.68M   128MB/s    in 7.6s    \n",
            "\n",
            "2020-09-16 03:14:46 (104 MB/s) - ‘/tmp/cats-and-dogs.zip’ saved [824894548/824894548]\n",
            "\n"
          ],
          "name": "stdout"
        }
      ]
    },
    {
      "cell_type": "code",
      "metadata": {
        "id": "KTEIHWnl5Mc9",
        "colab_type": "code",
        "colab": {
          "base_uri": "https://localhost:8080/",
          "height": 49
        },
        "outputId": "08826e34-0423-47ef-8b06-6d72cdd97911"
      },
      "source": [
        "print(len(os.listdir(\"/tmp/PetImages/Cat\")))\n",
        "print(len(os.listdir(\"/tmp/PetImages/Dog\")))"
      ],
      "execution_count": 9,
      "outputs": [
        {
          "output_type": "stream",
          "text": [
            "12501\n",
            "12501\n"
          ],
          "name": "stdout"
        }
      ]
    },
    {
      "cell_type": "code",
      "metadata": {
        "id": "NMTdAmZl5QFv",
        "colab_type": "code",
        "colab": {}
      },
      "source": [
        "try:\n",
        "  os.mkdir('/tmp/cats-v-dogs')\n",
        "  os.mkdir('/tmp/cats-v-dogs/train')\n",
        "  os.mkdir('/tmp/cats-v-dogs/test')\n",
        "  os.mkdir('/tmp/cats-v-dogs/train/cats')\n",
        "  os.mkdir('/tmp/cats-v-dogs/train/dogs')\n",
        "  os.mkdir('/tmp/cats-v-dogs/test/cats')\n",
        "  os.mkdir('/tmp/cats-v-dogs/test/dogs')\n",
        "except OSError:\n",
        "  pass"
      ],
      "execution_count": 10,
      "outputs": []
    },
    {
      "cell_type": "code",
      "metadata": {
        "id": "--oSumPA5WLm",
        "colab_type": "code",
        "colab": {
          "base_uri": "https://localhost:8080/",
          "height": 49
        },
        "outputId": "262d2d8f-6477-456a-ea50-47b8fbf249b1"
      },
      "source": [
        "def split_data(SOURCE, TRAINING, TESTING, SPLIT_SIZE):\n",
        "    files = []\n",
        "    for filename in os.listdir(SOURCE):\n",
        "        file = SOURCE + filename\n",
        "        if os.path.getsize(file) > 0:\n",
        "            files.append(filename)\n",
        "        else:\n",
        "            print(filename + \" is zero length, so ignoring.\")\n",
        "\n",
        "    training_length = int(len(files) * SPLIT_SIZE)\n",
        "    testing_length  = int(len(files) - training_length)\n",
        "    shuffled_set    = random.sample(files, len(files))\n",
        "    training_set    = shuffled_set[0:training_length]\n",
        "    testing_set     = shuffled_set[-testing_length:]\n",
        "\n",
        "    for filename in training_set:\n",
        "        this_file   = SOURCE + filename\n",
        "        destination = TRAINING + filename\n",
        "        copyfile(this_file, destination)\n",
        "\n",
        "    for filename in testing_set:\n",
        "        this_file   = SOURCE + filename\n",
        "        destination = TESTING + filename\n",
        "        copyfile(this_file, destination)\n",
        "\n",
        "\n",
        "CAT_SOURCE_DIR    = \"/tmp/PetImages/Cat/\"\n",
        "TRAINING_CATS_DIR = \"/tmp/cats-v-dogs/train/cats/\"\n",
        "TESTING_CATS_DIR  = \"/tmp/cats-v-dogs/test/cats/\"\n",
        "DOG_SOURCE_DIR    = \"/tmp/PetImages/Dog/\"\n",
        "TRAINING_DOGS_DIR = \"/tmp/cats-v-dogs/train/dogs/\"\n",
        "TESTING_DOGS_DIR  = \"/tmp/cats-v-dogs/test/dogs/\"\n",
        "\n",
        "\n",
        "## Process\n",
        "split_size = .9\n",
        "split_data(CAT_SOURCE_DIR, TRAINING_CATS_DIR, TESTING_CATS_DIR, split_size)\n",
        "split_data(DOG_SOURCE_DIR, TRAINING_DOGS_DIR, TESTING_DOGS_DIR, split_size)"
      ],
      "execution_count": 14,
      "outputs": [
        {
          "output_type": "stream",
          "text": [
            "666.jpg is zero length, so ignoring.\n",
            "11702.jpg is zero length, so ignoring.\n"
          ],
          "name": "stdout"
        }
      ]
    },
    {
      "cell_type": "code",
      "metadata": {
        "id": "GOxhsDJH5Z_L",
        "colab_type": "code",
        "colab": {
          "base_uri": "https://localhost:8080/",
          "height": 49
        },
        "outputId": "8f5a736f-3a98-4d22-abfc-19e9b644ca51"
      },
      "source": [
        "print(len(os.listdir(TRAINING_DOGS_DIR)))\n",
        "print(len(os.listdir(TRAINING_CATS_DIR )))"
      ],
      "execution_count": 15,
      "outputs": [
        {
          "output_type": "stream",
          "text": [
            "12378\n",
            "12391\n"
          ],
          "name": "stdout"
        }
      ]
    },
    {
      "cell_type": "code",
      "metadata": {
        "id": "U2GKxTEF5c1U",
        "colab_type": "code",
        "colab": {
          "base_uri": "https://localhost:8080/",
          "height": 32
        },
        "outputId": "3370d4a8-c8f3-41f7-f79c-5f5beae6e8cb"
      },
      "source": [
        "## Check One Image\n",
        "path = os.path.join(TRAINING_CATS_DIR, os.listdir(TRAINING_CATS_DIR)[100])\n",
        "aimg = image.load_img(path)\n",
        "aarr = image.img_to_array(aimg)\n",
        "aarr.shape"
      ],
      "execution_count": 18,
      "outputs": [
        {
          "output_type": "execute_result",
          "data": {
            "text/plain": [
              "(192, 196, 3)"
            ]
          },
          "metadata": {
            "tags": []
          },
          "execution_count": 18
        }
      ]
    },
    {
      "cell_type": "code",
      "metadata": {
        "id": "xcj5VgBX5feq",
        "colab_type": "code",
        "colab": {}
      },
      "source": [
        "## Basic Generators\n",
        "# trn_datagen = ImageDataGenerator(rescale=1/255)\n",
        "tst_datagen = image.ImageDataGenerator(rescale=1/255)"
      ],
      "execution_count": 20,
      "outputs": []
    },
    {
      "cell_type": "code",
      "metadata": {
        "id": "627h5CoN5iFQ",
        "colab_type": "code",
        "colab": {}
      },
      "source": [
        "## Generators With Augmentation\n",
        "trn_datagen = image.ImageDataGenerator(\n",
        "                    rescale            = 1./255,\n",
        "                    rotation_range     = 40,\n",
        "                    width_shift_range  = 0.2,\n",
        "                    height_shift_range = 0.2,\n",
        "                    shear_range        = 0.2,\n",
        "                    zoom_range         = 0.2,\n",
        "                    horizontal_flip    = True,\n",
        "                    fill_mode          = 'nearest')"
      ],
      "execution_count": 21,
      "outputs": []
    },
    {
      "cell_type": "code",
      "metadata": {
        "id": "K17PvBia5lAi",
        "colab_type": "code",
        "colab": {
          "base_uri": "https://localhost:8080/",
          "height": 49
        },
        "outputId": "07219afc-fc63-4b10-9196-115d607cd5cd"
      },
      "source": [
        "trn_gen = trn_datagen.flow_from_directory(directory= \"/tmp/cats-v-dogs/train\",\n",
        "                                          target_size = (150,150),\n",
        "                                          batch_size  = 200, \n",
        "                                          class_mode  = 'binary')\n",
        "\n",
        "val_gen = tst_datagen.flow_from_directory(directory= \"/tmp/cats-v-dogs/test\",\n",
        "                                          target_size = (150,150),\n",
        "                                          batch_size  = 200, \n",
        "                                          class_mode  = 'binary')"
      ],
      "execution_count": 22,
      "outputs": [
        {
          "output_type": "stream",
          "text": [
            "Found 24767 images belonging to 2 classes.\n",
            "Found 4768 images belonging to 2 classes.\n"
          ],
          "name": "stdout"
        }
      ]
    },
    {
      "cell_type": "code",
      "metadata": {
        "id": "vLirhaRD5oiL",
        "colab_type": "code",
        "colab": {}
      },
      "source": [
        "def d_cnn():\n",
        "  \n",
        "  l0 = layers.InputLayer((150,150,3))\n",
        "\n",
        "  a1 = layers.Conv2D(32, (3,3), activation=activations.relu)\n",
        "  a2 = layers.MaxPool2D((2,2))\n",
        "\n",
        "  b1 = layers.Conv2D(64, (3,3), activation=activations.relu)\n",
        "  b2 = layers.MaxPool2D((2,2))\n",
        "\n",
        "  c1 = layers.Conv2D(128, (3,3), activation=activations.relu)\n",
        "  c2 = layers.MaxPool2D((2,2))\n",
        "\n",
        "  l1 = layers.Flatten()\n",
        "  l2 = layers.Dropout(0.5)\n",
        "\n",
        "  l3 = layers.Dense(512, activation=activations.swish)\n",
        "  l4 = layers.Dense(128, activation=activations.swish)\n",
        "  lf = layers.Dense(1, activation=activations.sigmoid)\n",
        "\n",
        "  model = models.Sequential([l0, a1, a2, b1, b2, c1, c2, l1, l2, l3, l4, lf])\n",
        "\n",
        "  return model\n",
        "\n",
        "model = d_cnn()"
      ],
      "execution_count": 23,
      "outputs": []
    },
    {
      "cell_type": "code",
      "metadata": {
        "id": "G-8uBUow5tYv",
        "colab_type": "code",
        "colab": {
          "base_uri": "https://localhost:8080/",
          "height": 510
        },
        "outputId": "a30c0d9b-443c-428f-a305-8a7800ff3747"
      },
      "source": [
        "model.summary()"
      ],
      "execution_count": 24,
      "outputs": [
        {
          "output_type": "stream",
          "text": [
            "Model: \"sequential\"\n",
            "_________________________________________________________________\n",
            "Layer (type)                 Output Shape              Param #   \n",
            "=================================================================\n",
            "conv2d (Conv2D)              (None, 148, 148, 32)      896       \n",
            "_________________________________________________________________\n",
            "max_pooling2d (MaxPooling2D) (None, 74, 74, 32)        0         \n",
            "_________________________________________________________________\n",
            "conv2d_1 (Conv2D)            (None, 72, 72, 64)        18496     \n",
            "_________________________________________________________________\n",
            "max_pooling2d_1 (MaxPooling2 (None, 36, 36, 64)        0         \n",
            "_________________________________________________________________\n",
            "conv2d_2 (Conv2D)            (None, 34, 34, 128)       73856     \n",
            "_________________________________________________________________\n",
            "max_pooling2d_2 (MaxPooling2 (None, 17, 17, 128)       0         \n",
            "_________________________________________________________________\n",
            "flatten (Flatten)            (None, 36992)             0         \n",
            "_________________________________________________________________\n",
            "dropout (Dropout)            (None, 36992)             0         \n",
            "_________________________________________________________________\n",
            "dense (Dense)                (None, 512)               18940416  \n",
            "_________________________________________________________________\n",
            "dense_1 (Dense)              (None, 128)               65664     \n",
            "_________________________________________________________________\n",
            "dense_2 (Dense)              (None, 1)                 129       \n",
            "=================================================================\n",
            "Total params: 19,099,457\n",
            "Trainable params: 19,099,457\n",
            "Non-trainable params: 0\n",
            "_________________________________________________________________\n"
          ],
          "name": "stdout"
        }
      ]
    },
    {
      "cell_type": "code",
      "metadata": {
        "id": "620cdh_I5vPx",
        "colab_type": "code",
        "colab": {}
      },
      "source": [
        "model.compile(optimizer             ='rmsprop',\n",
        "              loss                  = losses.binary_crossentropy,\n",
        "              metrics               = ['accuracy'])"
      ],
      "execution_count": 25,
      "outputs": []
    },
    {
      "cell_type": "code",
      "metadata": {
        "id": "tGKgnWZR503_",
        "colab_type": "code",
        "colab": {
          "base_uri": "https://localhost:8080/",
          "height": 497
        },
        "outputId": "883d9698-7abc-4997-bdad-cfd5e0b652a7"
      },
      "source": [
        "history = model.fit(trn_gen,\n",
        "                    epochs          = 10,\n",
        "                    steps_per_epoch = 120,\n",
        "                    validation_data = val_gen,\n",
        "                    validation_steps= 10)"
      ],
      "execution_count": null,
      "outputs": [
        {
          "output_type": "stream",
          "text": [
            "Epoch 1/10\n",
            " 37/120 [========>.....................] - ETA: 1:55 - loss: 0.9873 - accuracy: 0.5439"
          ],
          "name": "stdout"
        },
        {
          "output_type": "stream",
          "text": [
            "/usr/local/lib/python3.6/dist-packages/PIL/TiffImagePlugin.py:770: UserWarning: Possibly corrupt EXIF data.  Expecting to read 32 bytes but only got 0. Skipping tag 270\n",
            "  \" Skipping tag %s\" % (size, len(data), tag)\n",
            "/usr/local/lib/python3.6/dist-packages/PIL/TiffImagePlugin.py:770: UserWarning: Possibly corrupt EXIF data.  Expecting to read 5 bytes but only got 0. Skipping tag 271\n",
            "  \" Skipping tag %s\" % (size, len(data), tag)\n",
            "/usr/local/lib/python3.6/dist-packages/PIL/TiffImagePlugin.py:770: UserWarning: Possibly corrupt EXIF data.  Expecting to read 8 bytes but only got 0. Skipping tag 272\n",
            "  \" Skipping tag %s\" % (size, len(data), tag)\n",
            "/usr/local/lib/python3.6/dist-packages/PIL/TiffImagePlugin.py:770: UserWarning: Possibly corrupt EXIF data.  Expecting to read 8 bytes but only got 0. Skipping tag 282\n",
            "  \" Skipping tag %s\" % (size, len(data), tag)\n",
            "/usr/local/lib/python3.6/dist-packages/PIL/TiffImagePlugin.py:770: UserWarning: Possibly corrupt EXIF data.  Expecting to read 8 bytes but only got 0. Skipping tag 283\n",
            "  \" Skipping tag %s\" % (size, len(data), tag)\n",
            "/usr/local/lib/python3.6/dist-packages/PIL/TiffImagePlugin.py:770: UserWarning: Possibly corrupt EXIF data.  Expecting to read 20 bytes but only got 0. Skipping tag 306\n",
            "  \" Skipping tag %s\" % (size, len(data), tag)\n",
            "/usr/local/lib/python3.6/dist-packages/PIL/TiffImagePlugin.py:770: UserWarning: Possibly corrupt EXIF data.  Expecting to read 48 bytes but only got 0. Skipping tag 532\n",
            "  \" Skipping tag %s\" % (size, len(data), tag)\n",
            "/usr/local/lib/python3.6/dist-packages/PIL/TiffImagePlugin.py:788: UserWarning: Corrupt EXIF data.  Expecting to read 2 bytes but only got 0. \n",
            "  warnings.warn(str(msg))\n"
          ],
          "name": "stderr"
        },
        {
          "output_type": "stream",
          "text": [
            "120/120 [==============================] - 181s 2s/step - loss: 0.7804 - accuracy: 0.5709 - val_loss: 0.5946 - val_accuracy: 0.6875\n",
            "Epoch 2/10\n",
            "120/120 [==============================] - 178s 1s/step - loss: 0.6417 - accuracy: 0.6418 - val_loss: 0.5648 - val_accuracy: 0.7090\n",
            "Epoch 3/10\n",
            "120/120 [==============================] - 176s 1s/step - loss: 0.6052 - accuracy: 0.6700 - val_loss: 0.5023 - val_accuracy: 0.7480\n",
            "Epoch 4/10\n",
            "120/120 [==============================] - 174s 1s/step - loss: 0.5747 - accuracy: 0.6949 - val_loss: 0.4976 - val_accuracy: 0.7570\n",
            "Epoch 5/10\n",
            "120/120 [==============================] - 174s 1s/step - loss: 0.5552 - accuracy: 0.7122 - val_loss: 0.4596 - val_accuracy: 0.7950\n",
            "Epoch 6/10\n",
            "120/120 [==============================] - ETA: 0s - loss: 0.5369 - accuracy: 0.7285"
          ],
          "name": "stdout"
        }
      ]
    },
    {
      "cell_type": "code",
      "metadata": {
        "id": "pz413qCs54WJ",
        "colab_type": "code",
        "colab": {}
      },
      "source": [
        "loss_acc_plots(history)"
      ],
      "execution_count": null,
      "outputs": []
    }
  ]
}